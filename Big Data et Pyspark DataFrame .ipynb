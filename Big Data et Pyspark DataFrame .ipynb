{
 "cells": [
  {
   "cell_type": "markdown",
   "metadata": {},
   "source": [
    "# Big Data"
   ]
  },
  {
   "cell_type": "markdown",
   "metadata": {},
   "source": [
    "Il y'a plusieurs définitions du terme Big Data. D'après wikipédia, le Big Data, littéralement « grosses données », ou mégadonnées, parfois appelées données massives, désigne des ensembles de données devenus si volumineux qu'ils dépassent l'intuition et les capacités humaines d'analyse et même celles des outils informatiques classiques de gestion de base de données ou de l'information."
   ]
  },
  {
   "cell_type": "markdown",
   "metadata": {},
   "source": [
    "# Caractèristiques du Big Data"
   ]
  },
  {
   "cell_type": "markdown",
   "metadata": {},
   "source": [
    "Il y'a trois V du Big Data qu'on utilise pour décrire ses caractèristiques: Volume, Variété, Vélocité."
   ]
  },
  {
   "cell_type": "markdown",
   "metadata": {},
   "source": [
    "#### Volume: "
   ]
  },
  {
   "cell_type": "markdown",
   "metadata": {},
   "source": [
    "Le volume fait référence aux quantités incroyables de données générées chaque seconde par les médias sociaux, les téléphones portables, les voitures, les cartes de crédit, les photographies, les vidéos, etc. Les énormes quantités de données sont devenues si grandes en fait que nous ne pouvons plus analyser des données en utilisant la technologie de base de données traditionnelle. Nous utilisons maintenant des systèmes distribués, où des parties des données sont stockées dans des emplacements différents et rassemblées par un logiciel. Avec seulement Facebook, il y a 10 milliards de messages, 4,5 milliards de fois que le bouton «J'aime» est enfoncé et plus de 350 millions de nouvelles images sont téléchargées chaque jour. La collecte et l'analyse de ces données constituent clairement un défi technique d'une ampleur considérable."
   ]
  },
  {
   "cell_type": "markdown",
   "metadata": {},
   "source": [
    "#### Velocité"
   ]
  },
  {
   "cell_type": "markdown",
   "metadata": {},
   "source": [
    "Parlons de la vitesse. Évidemment, la vitesse fait référence à la vitesse à laquelle de grandes quantités de données sont générées, collectées et analysées. Chaque jour, le nombre de courriels, de messages Twitter, de photos, de clips vidéo, etc. augmente. Chaque seconde, les données augmentent. Non seulement il doit être analysé, mais la vitesse de transmission et l'accès aux données doivent également rester instantanés pour permettre un accès en temps réel ou quasi réel au site Web, à la vérification de la carte de crédit et à la messagerie instantanée. La technologie Big Data nous permet maintenant d'analyser les données en cours de création, sans jamais les placer dans des bases de données."
   ]
  },
  {
   "cell_type": "markdown",
   "metadata": {},
   "source": [
    "#### Variété"
   ]
  },
  {
   "cell_type": "markdown",
   "metadata": {},
   "source": [
    "La variété est définie comme les différents types de données que nous pouvons maintenant utiliser. Les données d'aujourd'hui ont une apparence très différente de celles du passé. Nous n'avons plus seulement des données structurées (nom, numéro de téléphone, adresse, données financières, etc.) qui s'intègrent parfaitement dans un tableau de données. Les données actuelles ne sont pas structurées. En fait, 80% des données mondiales appartiennent à cette catégorie: photos, séquences vidéo, mises à jour des médias sociaux, etc. La technologie nouvelle et innovante du Big Data permet à présent de collecter, de stocker et d’utiliser simultanément des données structurées et non structurées."
   ]
  },
  {
   "cell_type": "markdown",
   "metadata": {},
   "source": [
    "#### Les deux V supplémentaires qui caractérisent le Big Data sont:"
   ]
  },
  {
   "cell_type": "markdown",
   "metadata": {},
   "source": [
    "#### Véracité"
   ]
  },
  {
   "cell_type": "markdown",
   "metadata": {},
   "source": [
    "La véracité est la qualité ou la fiabilité des données. Quelle est la précision de toutes ces données? Par exemple, pensez à tous les messages Twitter contenant des balises de hachage, des abréviations, des fautes de frappe, etc., ainsi que la fiabilité et la précision de tout ce contenu.  \n"
   ]
  },
  {
   "cell_type": "markdown",
   "metadata": {},
   "source": [
    "#### Valeur"
   ]
  },
  {
   "cell_type": "markdown",
   "metadata": {},
   "source": [
    "Lorsque nous parlons de valeur, nous faisons référence à la valeur des données extraites. Avoir une quantité infinie de données est une chose, mais à moins que cela ne devienne une valeur, cela ne sert à rien. Bien qu'il existe un lien clair entre les données et les connaissances, cela ne signifie pas toujours que le Big Data a une valeur. La partie la plus importante de cette initiative est de comprendre les coûts et les avantages de la collecte et de l’analyse des données pour faire en sorte que les données récoltées soient finalement monétisées."
   ]
  },
  {
   "cell_type": "markdown",
   "metadata": {},
   "source": [
    "## Concepts et Terminologies du Big Data"
   ]
  },
  {
   "cell_type": "markdown",
   "metadata": {},
   "source": [
    "### Cluster computing"
   ]
  },
  {
   "cell_type": "markdown",
   "metadata": {},
   "source": [
    "Cluster computing est une forme de calcul dans laquelle un groupe d'ordinateurs (souvent appelés nœuds) connectés via un réseau local (LAN), se comporte ainsi comme une seule machine. Un groupe d’ ordinateurs aide à résoudre plus efficacement des opérations complexes avec une vitesse de traitement beaucoup plus rapide et une meilleure intégrité des données qu’un ordinateur unique et n’est utilisé que pour des applications stratégiques."
   ]
  },
  {
   "cell_type": "markdown",
   "metadata": {},
   "source": [
    "### Parallel Computing"
   ]
  },
  {
   "cell_type": "markdown",
   "metadata": {},
   "source": [
    "parallel Computing (calcul parallèle): est un type de calcul dans lequel de nombreux calculs ou l'exécution de processus sont effectués simultanément. "
   ]
  },
  {
   "cell_type": "markdown",
   "metadata": {},
   "source": [
    "### Distributed Computing"
   ]
  },
  {
   "cell_type": "markdown",
   "metadata": {},
   "source": [
    "Distributed Computing (Calcul distribué): C'est un ensemble de noeuds qui excutent des calculs en parallèles"
   ]
  },
  {
   "cell_type": "markdown",
   "metadata": {},
   "source": [
    "# Spark"
   ]
  },
  {
   "cell_type": "markdown",
   "metadata": {},
   "source": [
    "Apache spark est un framework de cluster computing rapide et à multi-usage. Il fournit des API de haut niveau en Java, Scala, Python et R, ainsi qu'un moteur optimisé prenant en charge les graphiques d'exécution généraux. Il prend également en charge un ensemble complet d' outils de niveau supérieur, notamment Spark SQL pour SQL et le traitement de données structurées, MLlib pour l'apprentissage automatique, GraphX pour le traitement de graphes et Spark Streaming ."
   ]
  },
  {
   "cell_type": "code",
   "execution_count": 51,
   "metadata": {},
   "outputs": [],
   "source": [
    "import pyspark "
   ]
  },
  {
   "cell_type": "code",
   "execution_count": 5,
   "metadata": {},
   "outputs": [],
   "source": [
    "from pyspark.sql import SparkSession #Point d'entrée des fonctionnalités de spark"
   ]
  },
  {
   "cell_type": "code",
   "execution_count": 50,
   "metadata": {},
   "outputs": [
    {
     "name": "stdout",
     "output_type": "stream",
     "text": [
      "la version actuelle de pyspark est 2.4.3\n"
     ]
    }
   ],
   "source": [
    "print(\"la version actuelle de pyspark est {}\".format(pyspark.__version__))"
   ]
  },
  {
   "cell_type": "markdown",
   "metadata": {},
   "source": [
    "# Pyspark DataFrame"
   ]
  },
  {
   "cell_type": "markdown",
   "metadata": {},
   "source": [
    "Un DataFrame est un jeu de données organisé en colonnes nommées. Il est conceptuellement équivalent à une table dans une base de données relationnelle ou à un dataframe dans R / Python, mais avec des optimisations plus riches. Les DataFrames peuvent être construits à partir de plusieurs sources telles que: des fichiers csv, json, des tables dans Hive, des bases de données externes ou des RDD existants. "
   ]
  },
  {
   "cell_type": "markdown",
   "metadata": {},
   "source": [
    "Le point d'entrée dans toutes les fonctionnalités de Spark est la classe SparkSessionclasse. Pour créer  une SparkSession basique,on peut utiliser simplement SparkSession.builder() comme suit:"
   ]
  },
  {
   "cell_type": "code",
   "execution_count": 45,
   "metadata": {},
   "outputs": [],
   "source": [
    "spark = SparkSession.builder.master('local').appName(\"Pyspark\").getOrCreate()"
   ]
  },
  {
   "cell_type": "markdown",
   "metadata": {},
   "source": [
    "### Pour lire des fichiers csv (json) on utilise la méthode read.scv() (read.json())"
   ]
  },
  {
   "cell_type": "code",
   "execution_count": 46,
   "metadata": {},
   "outputs": [],
   "source": [
    "df_1 = spark.read.csv(r'C:\\Users\\Papa-SEYE\\Documents\\Pandas\\militaires.csv', inferSchema=True, header=True)\n",
    "df_2 = spark.read.csv(r'C:\\Users\\Papa-SEYE\\Documents\\Pandas\\cmq.csv', inferSchema=True, header=True)"
   ]
  },
  {
   "cell_type": "code",
   "execution_count": 47,
   "metadata": {},
   "outputs": [
    {
     "name": "stdout",
     "output_type": "stream",
     "text": [
      "+-----+---------+----------+--------------------+--------------------+--------+\n",
      "|annee|trimestre|      date|         fournisseur|         description| montant|\n",
      "+-----+---------+----------+--------------------+--------------------+--------+\n",
      "| 2004|        1|01-04-2004|Tri-Comp Systems Ltd|Services professi...|186328.0|\n",
      "| 2004|        1|01-04-2004|Associates Group ...|Services de progr...| 84263.0|\n",
      "| 2004|        1|01-04-2004|InBusiness Solutions|Services de progr...| 88730.0|\n",
      "| 2004|        1|01-04-2004|Maple Leaf Constr...|Travaux de constr...|448375.0|\n",
      "| 2004|        1|01-04-2004|Wade General Cont...|Travaux d'entrepr...|217816.0|\n",
      "| 2004|        1|01-04-2004|ICR General Contr...|Travaux de pose d...| 80250.0|\n",
      "| 2004|        1|01-04-2004|Frecon Constructi...|Travaux de pose d...|283000.0|\n",
      "| 2004|        1|01-04-2004|          Royal Navy|Services pédagogi...| 11079.0|\n",
      "| 2004|        1|01-04-2004|        British Army|Services pédagogi...| 14439.0|\n",
      "| 2004|        1|01-04-2004|        British Army|Services pédagogi...| 14989.0|\n",
      "+-----+---------+----------+--------------------+--------------------+--------+\n",
      "only showing top 10 rows\n",
      "\n"
     ]
    }
   ],
   "source": [
    "df_1.show(10) #Affichage les n premiers ligne du dataframe df_1 on utilise df_1.show(n). la methode show() affiche \n",
    "#les 20 premieres par défaut"
   ]
  },
  {
   "cell_type": "code",
   "execution_count": 83,
   "metadata": {},
   "outputs": [
    {
     "name": "stdout",
     "output_type": "stream",
     "text": [
      "<class 'pyspark.sql.dataframe.DataFrame'>\n"
     ]
    }
   ],
   "source": [
    "print(type(df_1)) #Affichage du type de df_1: df_1 est dataframe de pyspark"
   ]
  },
  {
   "cell_type": "code",
   "execution_count": 84,
   "metadata": {},
   "outputs": [
    {
     "name": "stdout",
     "output_type": "stream",
     "text": [
      "<class 'pyspark.sql.dataframe.DataFrame'>\n"
     ]
    }
   ],
   "source": [
    "print(type(df_2))"
   ]
  },
  {
   "cell_type": "code",
   "execution_count": 82,
   "metadata": {},
   "outputs": [
    {
     "data": {
      "text/plain": [
       "165952"
      ]
     },
     "execution_count": 82,
     "metadata": {},
     "output_type": "execute_result"
    }
   ],
   "source": [
    "df_1.count() #Compter le nombre d'enregistrement "
   ]
  },
  {
   "cell_type": "code",
   "execution_count": 81,
   "metadata": {},
   "outputs": [
    {
     "data": {
      "text/plain": [
       "35119"
      ]
     },
     "execution_count": 81,
     "metadata": {},
     "output_type": "execute_result"
    }
   ],
   "source": [
    "df_2.count() #Compter le nombre d'enregistrement "
   ]
  },
  {
   "cell_type": "code",
   "execution_count": 48,
   "metadata": {},
   "outputs": [
    {
     "name": "stdout",
     "output_type": "stream",
     "text": [
      "root\n",
      " |-- annee: integer (nullable = true)\n",
      " |-- trimestre: integer (nullable = true)\n",
      " |-- date: string (nullable = true)\n",
      " |-- fournisseur: string (nullable = true)\n",
      " |-- description: string (nullable = true)\n",
      " |-- montant: string (nullable = true)\n",
      "\n"
     ]
    }
   ],
   "source": [
    "df_1.printSchema() #Pour voir shema de notre dataframe"
   ]
  },
  {
   "cell_type": "markdown",
   "metadata": {},
   "source": [
    "## Changement de types d'une colonne"
   ]
  },
  {
   "cell_type": "markdown",
   "metadata": {},
   "source": [
    "Dans notre dataframe df_1, le type de montant est 'string' alors qu'il doit etre un entier ou un réel. Notons une différence d'un dataframe en pyspark et un dataframe en pandas. Un dataframe en pyspark est immutable, c'est on ne peut pas le modifier alors que pour pandas, un dataframe est mmutable on ;odifier le type d'une colonne, la renommer, etc. "
   ]
  },
  {
   "cell_type": "code",
   "execution_count": 59,
   "metadata": {},
   "outputs": [],
   "source": [
    "df_3 = spark.createDataFrame(df_1.select(df_1.montant.cast(\"double\")).collect()) \n",
    "#Creation d'un nouveau dataframe df_3 en changeant le type de montant en double"
   ]
  },
  {
   "cell_type": "code",
   "execution_count": 60,
   "metadata": {},
   "outputs": [
    {
     "name": "stdout",
     "output_type": "stream",
     "text": [
      "root\n",
      " |-- montant: double (nullable = true)\n",
      "\n"
     ]
    }
   ],
   "source": [
    "df_3.printSchema() #Le type de montant est maintenant double"
   ]
  },
  {
   "cell_type": "code",
   "execution_count": 61,
   "metadata": {},
   "outputs": [
    {
     "name": "stdout",
     "output_type": "stream",
     "text": [
      "+--------+\n",
      "| montant|\n",
      "+--------+\n",
      "|186328.0|\n",
      "| 84263.0|\n",
      "| 88730.0|\n",
      "|448375.0|\n",
      "|217816.0|\n",
      "| 80250.0|\n",
      "|283000.0|\n",
      "| 11079.0|\n",
      "| 14439.0|\n",
      "| 14989.0|\n",
      "+--------+\n",
      "only showing top 10 rows\n",
      "\n"
     ]
    }
   ],
   "source": [
    "df_3.show(10)"
   ]
  },
  {
   "cell_type": "code",
   "execution_count": 69,
   "metadata": {},
   "outputs": [],
   "source": [
    "from pyspark.sql.functions import col, max as max_\n",
    "from pyspark.sql.functions import min as min_\n",
    "from pyspark.sql.functions import mean"
   ]
  },
  {
   "cell_type": "code",
   "execution_count": 64,
   "metadata": {},
   "outputs": [
    {
     "name": "stdout",
     "output_type": "stream",
     "text": [
      "+------------+\n",
      "|max(montant)|\n",
      "+------------+\n",
      "|   9975000.0|\n",
      "+------------+\n",
      "\n"
     ]
    }
   ],
   "source": [
    "df_3.agg(max_('montant')).show() #La valeur maximale de la colonne 'montant'"
   ]
  },
  {
   "cell_type": "code",
   "execution_count": 70,
   "metadata": {},
   "outputs": [
    {
     "name": "stdout",
     "output_type": "stream",
     "text": [
      "+-----------------+\n",
      "|     avg(montant)|\n",
      "+-----------------+\n",
      "|164149.1822735635|\n",
      "+-----------------+\n",
      "\n"
     ]
    }
   ],
   "source": [
    "df_3.agg(mean('montant')).show() #La valeur moyenne de la colonne 'montant'"
   ]
  },
  {
   "cell_type": "code",
   "execution_count": 24,
   "metadata": {},
   "outputs": [
    {
     "name": "stdout",
     "output_type": "stream",
     "text": [
      "root\n",
      " |-- num: string (nullable = true)\n",
      " |-- annee: string (nullable = true)\n",
      " |-- prenom: string (nullable = true)\n",
      " |-- nom: string (nullable = true)\n",
      " |-- genre: string (nullable = true)\n",
      " |-- specialite1: string (nullable = true)\n",
      " |-- specialite2: string (nullable = true)\n",
      " |-- specialite3: string (nullable = true)\n",
      " |-- statut: string (nullable = true)\n",
      " |-- dateChangStatut: timestamp (nullable = true)\n",
      " |-- typePermis: string (nullable = true)\n",
      " |-- ville: string (nullable = true)\n",
      " |-- prov: string (nullable = true)\n",
      " |-- pays: string (nullable = true)\n",
      "\n"
     ]
    }
   ],
   "source": [
    "df_2.printSchema() #Pour voir shema de notre dataframe"
   ]
  },
  {
   "cell_type": "code",
   "execution_count": 26,
   "metadata": {},
   "outputs": [
    {
     "data": {
      "text/plain": [
       "['num',\n",
       " 'annee',\n",
       " 'prenom',\n",
       " 'nom',\n",
       " 'genre',\n",
       " 'specialite1',\n",
       " 'specialite2',\n",
       " 'specialite3',\n",
       " 'statut',\n",
       " 'dateChangStatut',\n",
       " 'typePermis',\n",
       " 'ville',\n",
       " 'prov',\n",
       " 'pays']"
      ]
     },
     "execution_count": 26,
     "metadata": {},
     "output_type": "execute_result"
    }
   ],
   "source": [
    "df_2.columns"
   ]
  },
  {
   "cell_type": "code",
   "execution_count": 78,
   "metadata": {},
   "outputs": [
    {
     "name": "stdout",
     "output_type": "stream",
     "text": [
      "+--------+------------+-----+------+-----+\n",
      "|  prenom|         nom|genre|   num|annee|\n",
      "+--------+------------+-----+------+-----+\n",
      "|  Lucien|       Amyot|    M|#30001| 1930|\n",
      "| Wilfrid|       Audet|    M|#30002| 1930|\n",
      "|   A. T.|     Batshaw|    M|#30003| 1930|\n",
      "| Maurice|     Beaudry|    M|#30005| 1930|\n",
      "|   P. E.|     Belleau|    M|#30006| 1930|\n",
      "|  Antoni|       Blais|    M|#30008| 1930|\n",
      "|    Lyla|       Brown|    F|#30012| 1930|\n",
      "|Alphonse|   Couturier|    M|#30014| 1930|\n",
      "|     Guy|D'Argencourt|    M|#30015| 1930|\n",
      "|    Rémi|  Desjardins|    M|#30017| 1930|\n",
      "|  Armand|    Frappier|    M|#30020| 1930|\n",
      "|  Edmour|    Frenette|    M|#30021| 1930|\n",
      "|   I. M.|    Gauthier|    M|#30024| 1930|\n",
      "|   J. A.|      Hébert|    M|#30028| 1930|\n",
      "|  Pierre|      Jodoin|    M|#30029| 1930|\n",
      "|   J. A.|      Kearns|    M|#30030| 1930|\n",
      "| J.-Paul|    Laplante|    M|#30032| 1930|\n",
      "|      R.|  Latourelle|    M|#30034| 1930|\n",
      "|    Jean|      Matton|    M|#30039| 1930|\n",
      "|  Marcel|     Ostiguy|    M|#30042| 1930|\n",
      "+--------+------------+-----+------+-----+\n",
      "only showing top 20 rows\n",
      "\n"
     ]
    }
   ],
   "source": [
    "df_2.select('prenom', 'nom', 'genre','num', 'annee').show() #Pour lire un nombre limité de colonnes"
   ]
  },
  {
   "cell_type": "code",
   "execution_count": 86,
   "metadata": {},
   "outputs": [
    {
     "name": "stdout",
     "output_type": "stream",
     "text": [
      "22441\n"
     ]
    }
   ],
   "source": [
    "nombre_homme = df_2.filter(df_2.genre=='M').count() #Compter le nombre d'homme\n",
    "print(nombre_homme)"
   ]
  },
  {
   "cell_type": "code",
   "execution_count": 87,
   "metadata": {},
   "outputs": [
    {
     "name": "stdout",
     "output_type": "stream",
     "text": [
      "12668\n"
     ]
    }
   ],
   "source": [
    "nombre_femme = df_2.filter(df_2.genre=='F').count() #pour compter le nombre de femmes\n",
    "print(nombre_femme)"
   ]
  },
  {
   "cell_type": "markdown",
   "metadata": {},
   "source": [
    "### On peut calculer le pourcentage d'hommes et de femmes"
   ]
  },
  {
   "cell_type": "code",
   "execution_count": 88,
   "metadata": {},
   "outputs": [
    {
     "name": "stdout",
     "output_type": "stream",
     "text": [
      "il y'a 63.92% d'hommes et 36.08% de femmes\n"
     ]
    }
   ],
   "source": [
    "pourcentage_h = nombre_homme*100/(nombre_femme+nombre_homme)\n",
    "pourcentage_f = nombre_femme*100/(nombre_femme+nombre_homme)\n",
    "print(\"il y'a {:.2f}% d'hommes et {:.2f}% de femmes\".format(pourcentage_h, pourcentage_f))"
   ]
  },
  {
   "cell_type": "code",
   "execution_count": 101,
   "metadata": {},
   "outputs": [],
   "source": [
    "import matplotlib.pyplot as plt"
   ]
  },
  {
   "cell_type": "code",
   "execution_count": 108,
   "metadata": {},
   "outputs": [
    {
     "data": {
      "image/png": "[encoded data removed]",
      "text/plain": [
       "<Figure size 432x288 with 1 Axes>"
      ]
     },
     "metadata": {},
     "output_type": "display_data"
    }
   ],
   "source": [
    "color = ['lightblue', 'red']\n",
    "labels = ['Homme', 'Femme']\n",
    "explode = [0.1, 0.0]\n",
    "plt.pie([pourcentage_h, pourcentage_f], explode=explode, labels=labels, colors=color, autopct='%1.2f%%', shadow=True)\n",
    "plt.axis('equal')\n",
    "plt.title(\"Pourcentage d'hommes et de femmes\")\n",
    "plt.show()"
   ]
  },
  {
   "cell_type": "markdown",
   "metadata": {},
   "source": [
    "On peut renommer une colonne avec la transformation withColumnRenamed avec la creation d'un nouveau dataframe"
   ]
  },
  {
   "cell_type": "code",
   "execution_count": 38,
   "metadata": {},
   "outputs": [],
   "source": [
    "df_2_sexe=df_2.withColumnRenamed('genre', 'Sexe')"
   ]
  },
  {
   "cell_type": "code",
   "execution_count": 93,
   "metadata": {},
   "outputs": [
    {
     "name": "stdout",
     "output_type": "stream",
     "text": [
      "+------+------------+--------+----+--------------------+--------------------+-----------+\n",
      "|   num|         nom|  prenom|Sexe|         specialite1|         specialite2|specialite3|\n",
      "+------+------------+--------+----+--------------------+--------------------+-----------+\n",
      "|#30001|       Amyot|  Lucien|   M| Médecine de famille|                null|       null|\n",
      "|#30002|       Audet| Wilfrid|   M|            Inconnue|                null|       null|\n",
      "|#30003|     Batshaw|   A. T.|   M| Médecine de famille|                null|       null|\n",
      "|#30005|     Beaudry| Maurice|   M|        Dermatologie|                null|       null|\n",
      "|#30006|     Belleau|   P. E.|   M|    Médecine interne|                null|       null|\n",
      "|#30008|       Blais|  Antoni|   M| Médecine de famille|                null|       null|\n",
      "|#30012|       Brown|    Lyla|   F| Médecine de famille|                null|       null|\n",
      "|#30014|   Couturier|Alphonse|   M|  Chirurgie générale|                null|       null|\n",
      "|#30015|D'Argencourt|     Guy|   M|  Chirurgie générale|                null|       null|\n",
      "|#30017|  Desjardins|    Rémi|   M| Médecine de famille|                null|       null|\n",
      "|#30020|    Frappier|  Armand|   M|Microbiologie méd...|                null|       null|\n",
      "|#30021|    Frenette|  Edmour|   M|Hygiène et santé ...|                null|       null|\n",
      "|#30024|    Gauthier|   I. M.|   M| Médecine de famille|                null|       null|\n",
      "|#30028|      Hébert|   J. A.|   M|            Urologie|                null|       null|\n",
      "|#30029|      Jodoin|  Pierre|   M| Médecine de famille|                null|       null|\n",
      "|#30030|      Kearns|   J. A.|   M|            Inconnue|                null|       null|\n",
      "|#30032|    Laplante| J.-Paul|   M| Médecine de famille|                null|       null|\n",
      "|#30034|  Latourelle|      R.|   M|Hygiène et santé ...|                null|       null|\n",
      "|#30039|      Matton|    Jean|   M|            Inconnue|                null|       null|\n",
      "|#30042|     Ostiguy|  Marcel|   M|       Ophtalmologie|Oto-rhino-laryngo...|       null|\n",
      "+------+------------+--------+----+--------------------+--------------------+-----------+\n",
      "only showing top 20 rows\n",
      "\n"
     ]
    }
   ],
   "source": [
    "df_2_sexe.select('num','nom', 'prenom', 'Sexe', 'specialite1','specialite2', 'specialite3').show()"
   ]
  },
  {
   "cell_type": "code",
   "execution_count": 49,
   "metadata": {},
   "outputs": [
    {
     "name": "stdout",
     "output_type": "stream",
     "text": [
      "+----+-----+\n",
      "|Sexe|count|\n",
      "+----+-----+\n",
      "|   F|12668|\n",
      "|null|   10|\n",
      "|   M|22441|\n",
      "+----+-----+\n",
      "\n"
     ]
    }
   ],
   "source": [
    "df_2_sexe.groupBy('Sexe').count().show()"
   ]
  },
  {
   "cell_type": "code",
   "execution_count": 96,
   "metadata": {},
   "outputs": [
    {
     "data": {
      "text/plain": [
       "1"
      ]
     },
     "execution_count": 96,
     "metadata": {},
     "output_type": "execute_result"
    }
   ],
   "source": [
    "df_1.rdd.getNumPartitions()"
   ]
  },
  {
   "cell_type": "markdown",
   "metadata": {},
   "source": [
    "# Enregistrer un dataframe en une table sql"
   ]
  },
  {
   "cell_type": "code",
   "execution_count": 109,
   "metadata": {},
   "outputs": [],
   "source": [
    "df_1.createOrReplaceTempView(\"table_1\") #Enregistrement de la prémière table"
   ]
  },
  {
   "cell_type": "code",
   "execution_count": 110,
   "metadata": {},
   "outputs": [],
   "source": [
    "df_2.createOrReplaceTempView(\"table_2\") #Enregistrement de la deuxième table"
   ]
  },
  {
   "cell_type": "code",
   "execution_count": 111,
   "metadata": {},
   "outputs": [
    {
     "name": "stdout",
     "output_type": "stream",
     "text": [
      "+-----+---------+----------+--------------------+--------------------+--------+\n",
      "|annee|trimestre|      date|         fournisseur|         description| montant|\n",
      "+-----+---------+----------+--------------------+--------------------+--------+\n",
      "| 2004|        1|01-04-2004|Tri-Comp Systems Ltd|Services professi...|186328.0|\n",
      "| 2004|        1|01-04-2004|Associates Group ...|Services de progr...| 84263.0|\n",
      "| 2004|        1|01-04-2004|InBusiness Solutions|Services de progr...| 88730.0|\n",
      "| 2004|        1|01-04-2004|Maple Leaf Constr...|Travaux de constr...|448375.0|\n",
      "| 2004|        1|01-04-2004|Wade General Cont...|Travaux d'entrepr...|217816.0|\n",
      "| 2004|        1|01-04-2004|ICR General Contr...|Travaux de pose d...| 80250.0|\n",
      "+-----+---------+----------+--------------------+--------------------+--------+\n",
      "only showing top 6 rows\n",
      "\n"
     ]
    }
   ],
   "source": [
    "spark.sql(\"SELECT * FROM table_1\").show(6) #requete SQL"
   ]
  },
  {
   "cell_type": "code",
   "execution_count": 121,
   "metadata": {},
   "outputs": [
    {
     "name": "stdout",
     "output_type": "stream",
     "text": [
      "+------------+--------+-------------------+-----+\n",
      "|         nom|  prenom|        specialite1|genre|\n",
      "+------------+--------+-------------------+-----+\n",
      "|       Amyot|  Lucien|Médecine de famille|    M|\n",
      "|       Audet| Wilfrid|           Inconnue|    M|\n",
      "|     Batshaw|   A. T.|Médecine de famille|    M|\n",
      "|     Beaudry| Maurice|       Dermatologie|    M|\n",
      "|     Belleau|   P. E.|   Médecine interne|    M|\n",
      "|       Blais|  Antoni|Médecine de famille|    M|\n",
      "|       Brown|    Lyla|Médecine de famille|    F|\n",
      "|   Couturier|Alphonse| Chirurgie générale|    M|\n",
      "|D'Argencourt|     Guy| Chirurgie générale|    M|\n",
      "|  Desjardins|    Rémi|Médecine de famille|    M|\n",
      "+------------+--------+-------------------+-----+\n",
      "only showing top 10 rows\n",
      "\n"
     ]
    }
   ],
   "source": [
    "spark.sql(\"SELECT nom, prenom, specialite1, genre from table_2\").show(10)"
   ]
  },
  {
   "cell_type": "code",
   "execution_count": null,
   "metadata": {},
   "outputs": [],
   "source": []
  }
 ],
 "metadata": {
  "kernelspec": {
   "display_name": "Python 3",
   "language": "python",
   "name": "python3"
  },
  "language_info": {
   "codemirror_mode": {
    "name": "ipython",
    "version": 3
   },
   "file_extension": ".py",
   "mimetype": "text/x-python",
   "name": "python",
   "nbconvert_exporter": "python",
   "pygments_lexer": "ipython3",
   "version": "3.7.3"
  }
 },
 "nbformat": 4,
 "nbformat_minor": 2
}
